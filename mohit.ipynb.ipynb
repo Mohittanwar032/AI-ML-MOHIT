{
 "cells": [
  {
   "cell_type": "markdown",
   "id": "3a626463",
   "metadata": {},
   "source": [
    "# 🏠 Task 3: Linear Regression using Scikit-learn\n",
    "\n",
    "This notebook implements simple linear regression on a housing dataset using `scikit-learn`, `pandas`, and `matplotlib`.\n",
    "\n",
    "Dataset: [Housing Price Prediction](https://www.kaggle.com/datasets/harishkumardatalab/housing-price-prediction)\n"
   ]
  },
  {
   "cell_type": "code",
   "execution_count": null,
   "id": "8f5b9470",
   "metadata": {},
   "outputs": [],
   "source": [
    "# Step 0: Import required libraries\n",
    "import pandas as pd\n",
    "import numpy as np\n",
    "import matplotlib.pyplot as plt\n",
    "from sklearn.model_selection import train_test_split\n",
    "from sklearn.linear_model import LinearRegression\n",
    "from sklearn.metrics import mean_absolute_error, mean_squared_error, r2_score\n"
   ]
  },
  {
   "cell_type": "code",
   "execution_count": null,
   "id": "67d08bb3",
   "metadata": {},
   "outputs": [],
   "source": [
    "# Step 1: Load and preview the dataset\n",
    "# Make sure housing.csv is in the same directory or adjust the path accordingly\n",
    "df = pd.read_csv(\"housing.csv\")\n",
    "print(\"First 5 rows of the dataset:\")\n",
    "df.head()\n"
   ]
  },
  {
   "cell_type": "code",
   "execution_count": null,
   "id": "8988dbee",
   "metadata": {},
   "outputs": [],
   "source": [
    "# Step 2: Data Cleaning and Preprocessing\n",
    "# Check for missing values\n",
    "print(\"Missing values in dataset:\")\n",
    "print(df.isnull().sum())\n",
    "\n",
    "# Drop missing rows\n",
    "df = df.dropna()\n"
   ]
  },
  {
   "cell_type": "code",
   "execution_count": null,
   "id": "f217453c",
   "metadata": {},
   "outputs": [],
   "source": [
    "# Step 3: Feature Selection\n",
    "# Simple Linear Regression using 'area' as independent variable\n",
    "X = df[['area']]\n",
    "y = df['price']\n"
   ]
  },
  {
   "cell_type": "code",
   "execution_count": null,
   "id": "09b28564",
   "metadata": {},
   "outputs": [],
   "source": [
    "# Step 4: Train-test split\n",
    "X_train, X_test, y_train, y_test = train_test_split(X, y, test_size=0.2, random_state=42)\n"
   ]
  },
  {
   "cell_type": "code",
   "execution_count": null,
   "id": "f1302998",
   "metadata": {},
   "outputs": [],
   "source": [
    "# Step 5: Fit Linear Regression Model\n",
    "model = LinearRegression()\n",
    "model.fit(X_train, y_train)\n"
   ]
  },
  {
   "cell_type": "code",
   "execution_count": null,
   "id": "03f10b25",
   "metadata": {},
   "outputs": [],
   "source": [
    "# Step 6: Evaluate the model\n",
    "y_pred = model.predict(X_test)\n",
    "\n",
    "mae = mean_absolute_error(y_test, y_pred)\n",
    "mse = mean_squared_error(y_test, y_pred)\n",
    "r2 = r2_score(y_test, y_pred)\n",
    "\n",
    "print(f\"Mean Absolute Error: {mae}\")\n",
    "print(f\"Mean Squared Error: {mse}\")\n",
    "print(f\"R² Score: {r2}\")\n"
   ]
  },
  {
   "cell_type": "code",
   "execution_count": null,
   "id": "c4c533cb",
   "metadata": {},
   "outputs": [],
   "source": [
    "# Step 7: Visualization\n",
    "plt.scatter(X_test, y_test, color='blue', label='Actual')\n",
    "plt.plot(X_test, y_pred, color='red', label='Predicted')\n",
    "plt.xlabel('Area')\n",
    "plt.ylabel('Price')\n",
    "plt.title('Linear Regression: Area vs Price')\n",
    "plt.legend()\n",
    "plt.grid(True)\n",
    "plt.tight_layout()\n",
    "plt.show()\n"
   ]
  },
  {
   "cell_type": "markdown",
   "id": "69b2e7c4",
   "metadata": {},
   "source": [
    "## 🧠 Interview Questions\n",
    "\n",
    "1. **What assumptions does linear regression make?**  \n",
    "   - Linearity, Independence, Homoscedasticity, Normality of residuals, No multicollinearity.\n",
    "\n",
    "2. **How do you interpret the coefficients?**  \n",
    "   - Each coefficient represents the change in the dependent variable for one unit of change in the independent variable.\n",
    "\n",
    "3. **What is R² score and its significance?**  \n",
    "   - R² indicates how well the independent variable explains the variability of the dependent variable.\n",
    "\n",
    "4. **When would you prefer MSE over MAE?**  \n",
    "   - Use MSE when large errors are more serious and you want to penalize them more.\n",
    "\n",
    "5. **How do you detect multicollinearity?**  \n",
    "   - Use Variance Inflation Factor (VIF).\n",
    "\n",
    "6. **What is the difference between simple and multiple regression?**  \n",
    "   - Simple regression has one independent variable, multiple regression has two or more.\n",
    "\n",
    "7. **Can linear regression be used for classification?**  \n",
    "   - No, use logistic regression for classification tasks.\n",
    "\n",
    "8. **What happens if you violate regression assumptions?**  \n",
    "   - It leads to unreliable estimates and predictions.\n"
   ]
  }
 ],
 "metadata": {
  "language_info": {
   "name": "python"
  }
 },
 "nbformat": 4,
 "nbformat_minor": 5
}
